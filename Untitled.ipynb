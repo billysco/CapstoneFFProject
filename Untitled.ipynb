{
 "cells": [
  {
   "cell_type": "code",
   "execution_count": 61,
   "metadata": {},
   "outputs": [],
   "source": [
    "import pandas as pd\n",
    "import numpy as np\n",
    "import matplotlib.pyplot as plt\n",
    "from scipy import stats\n",
    "from sklearn.model_selection import train_test_split\n",
    "from catboost import CatBoostClassifier, Pool\n",
    "from sklearn.metrics import f1_score\n",
    "import pickle\n",
    "%matplotlib inline"
   ]
  },
  {
   "cell_type": "code",
   "execution_count": 2,
   "metadata": {},
   "outputs": [],
   "source": [
    "df = pd.read_csv('wr_final.csv')\n",
    "df = df.drop(columns=['Unnamed: 0', '3 Cone', 'Shuttle', 'Vertical Jump', 'Position', 'PK', 'Year', 'RushAvg'])"
   ]
  },
  {
   "cell_type": "code",
   "execution_count": 3,
   "metadata": {},
   "outputs": [
    {
     "data": {
      "text/html": [
       "<div>\n",
       "<style scoped>\n",
       "    .dataframe tbody tr th:only-of-type {\n",
       "        vertical-align: middle;\n",
       "    }\n",
       "\n",
       "    .dataframe tbody tr th {\n",
       "        vertical-align: top;\n",
       "    }\n",
       "\n",
       "    .dataframe thead th {\n",
       "        text-align: right;\n",
       "    }\n",
       "</style>\n",
       "<table border=\"1\" class=\"dataframe\">\n",
       "  <thead>\n",
       "    <tr style=\"text-align: right;\">\n",
       "      <th></th>\n",
       "      <th>Round</th>\n",
       "      <th>Pick</th>\n",
       "      <th>Team</th>\n",
       "      <th>Player</th>\n",
       "      <th>Age</th>\n",
       "      <th>School</th>\n",
       "      <th>Weight</th>\n",
       "      <th>40 Time</th>\n",
       "      <th>Height (in)</th>\n",
       "      <th>G</th>\n",
       "      <th>...</th>\n",
       "      <th>RushAtt</th>\n",
       "      <th>RushYds</th>\n",
       "      <th>RushTD</th>\n",
       "      <th>Plays</th>\n",
       "      <th>TotalYds</th>\n",
       "      <th>YardsPerPlay</th>\n",
       "      <th>TotalTDs</th>\n",
       "      <th>YPG</th>\n",
       "      <th>Conf</th>\n",
       "      <th>response</th>\n",
       "    </tr>\n",
       "  </thead>\n",
       "  <tbody>\n",
       "    <tr>\n",
       "      <th>0</th>\n",
       "      <td>1</td>\n",
       "      <td>6</td>\n",
       "      <td>STL</td>\n",
       "      <td>Torry Holt</td>\n",
       "      <td>23.0</td>\n",
       "      <td>North Carolina St.</td>\n",
       "      <td>192.0</td>\n",
       "      <td>4.44</td>\n",
       "      <td>72.3</td>\n",
       "      <td>29.0</td>\n",
       "      <td>...</td>\n",
       "      <td>11.0</td>\n",
       "      <td>117.0</td>\n",
       "      <td>0.0</td>\n",
       "      <td>185.0</td>\n",
       "      <td>3235.0</td>\n",
       "      <td>17.486486</td>\n",
       "      <td>30.0</td>\n",
       "      <td>107.517241</td>\n",
       "      <td>ACC</td>\n",
       "      <td>1.0</td>\n",
       "    </tr>\n",
       "    <tr>\n",
       "      <th>1</th>\n",
       "      <td>1</td>\n",
       "      <td>8</td>\n",
       "      <td>ARI</td>\n",
       "      <td>David Boston</td>\n",
       "      <td>21.0</td>\n",
       "      <td>Ohio St.</td>\n",
       "      <td>215.0</td>\n",
       "      <td>4.47</td>\n",
       "      <td>73.3</td>\n",
       "      <td>25.0</td>\n",
       "      <td>...</td>\n",
       "      <td>3.0</td>\n",
       "      <td>8.0</td>\n",
       "      <td>0.0</td>\n",
       "      <td>161.0</td>\n",
       "      <td>2413.0</td>\n",
       "      <td>14.987578</td>\n",
       "      <td>27.0</td>\n",
       "      <td>96.200000</td>\n",
       "      <td>Big Ten</td>\n",
       "      <td>1.0</td>\n",
       "    </tr>\n",
       "    <tr>\n",
       "      <th>2</th>\n",
       "      <td>1</td>\n",
       "      <td>13</td>\n",
       "      <td>PIT</td>\n",
       "      <td>Troy Edwards</td>\n",
       "      <td>22.0</td>\n",
       "      <td>Louisiana Tech</td>\n",
       "      <td>191.0</td>\n",
       "      <td>4.57</td>\n",
       "      <td>69.5</td>\n",
       "      <td>34.0</td>\n",
       "      <td>...</td>\n",
       "      <td>38.0</td>\n",
       "      <td>447.0</td>\n",
       "      <td>6.0</td>\n",
       "      <td>318.0</td>\n",
       "      <td>4799.0</td>\n",
       "      <td>15.091195</td>\n",
       "      <td>56.0</td>\n",
       "      <td>128.000000</td>\n",
       "      <td>Ind</td>\n",
       "      <td>3.0</td>\n",
       "    </tr>\n",
       "    <tr>\n",
       "      <th>3</th>\n",
       "      <td>2</td>\n",
       "      <td>32</td>\n",
       "      <td>CLE</td>\n",
       "      <td>Kevin Johnson</td>\n",
       "      <td>23.0</td>\n",
       "      <td>Syracuse</td>\n",
       "      <td>194.0</td>\n",
       "      <td>4.41</td>\n",
       "      <td>71.1</td>\n",
       "      <td>11.0</td>\n",
       "      <td>...</td>\n",
       "      <td>8.0</td>\n",
       "      <td>105.0</td>\n",
       "      <td>3.0</td>\n",
       "      <td>68.0</td>\n",
       "      <td>999.0</td>\n",
       "      <td>14.691176</td>\n",
       "      <td>12.0</td>\n",
       "      <td>81.272727</td>\n",
       "      <td>Big East</td>\n",
       "      <td>1.0</td>\n",
       "    </tr>\n",
       "    <tr>\n",
       "      <th>4</th>\n",
       "      <td>2</td>\n",
       "      <td>53</td>\n",
       "      <td>BUF</td>\n",
       "      <td>Peerless Price</td>\n",
       "      <td>22.0</td>\n",
       "      <td>Tennessee</td>\n",
       "      <td>180.0</td>\n",
       "      <td>4.55</td>\n",
       "      <td>70.9</td>\n",
       "      <td>35.0</td>\n",
       "      <td>...</td>\n",
       "      <td>7.0</td>\n",
       "      <td>122.0</td>\n",
       "      <td>1.0</td>\n",
       "      <td>148.0</td>\n",
       "      <td>2349.0</td>\n",
       "      <td>15.871622</td>\n",
       "      <td>20.0</td>\n",
       "      <td>63.628571</td>\n",
       "      <td>SEC</td>\n",
       "      <td>2.0</td>\n",
       "    </tr>\n",
       "  </tbody>\n",
       "</table>\n",
       "<p>5 rows × 24 columns</p>\n",
       "</div>"
      ],
      "text/plain": [
       "   Round  Pick Team          Player   Age              School  Weight  \\\n",
       "0      1     6  STL      Torry Holt  23.0  North Carolina St.   192.0   \n",
       "1      1     8  ARI    David Boston  21.0            Ohio St.   215.0   \n",
       "2      1    13  PIT    Troy Edwards  22.0      Louisiana Tech   191.0   \n",
       "3      2    32  CLE   Kevin Johnson  23.0            Syracuse   194.0   \n",
       "4      2    53  BUF  Peerless Price  22.0           Tennessee   180.0   \n",
       "\n",
       "   40 Time  Height (in)     G  ...  RushAtt  RushYds  RushTD  Plays  TotalYds  \\\n",
       "0     4.44         72.3  29.0  ...     11.0    117.0     0.0  185.0    3235.0   \n",
       "1     4.47         73.3  25.0  ...      3.0      8.0     0.0  161.0    2413.0   \n",
       "2     4.57         69.5  34.0  ...     38.0    447.0     6.0  318.0    4799.0   \n",
       "3     4.41         71.1  11.0  ...      8.0    105.0     3.0   68.0     999.0   \n",
       "4     4.55         70.9  35.0  ...      7.0    122.0     1.0  148.0    2349.0   \n",
       "\n",
       "   YardsPerPlay  TotalTDs         YPG      Conf  response  \n",
       "0     17.486486      30.0  107.517241       ACC       1.0  \n",
       "1     14.987578      27.0   96.200000   Big Ten       1.0  \n",
       "2     15.091195      56.0  128.000000       Ind       3.0  \n",
       "3     14.691176      12.0   81.272727  Big East       1.0  \n",
       "4     15.871622      20.0   63.628571       SEC       2.0  \n",
       "\n",
       "[5 rows x 24 columns]"
      ]
     },
     "execution_count": 3,
     "metadata": {},
     "output_type": "execute_result"
    }
   ],
   "source": [
    "df.head()"
   ]
  },
  {
   "cell_type": "code",
   "execution_count": 4,
   "metadata": {},
   "outputs": [
    {
     "data": {
      "text/plain": [
       "Round            0\n",
       "Pick             0\n",
       "Team             0\n",
       "Player           0\n",
       "Age              0\n",
       "School           0\n",
       "Weight          30\n",
       "40 Time         46\n",
       "Height (in)     30\n",
       "G                0\n",
       "Rec              0\n",
       "RecYds           0\n",
       "RecAvg           0\n",
       "RecTD            0\n",
       "RushAtt          0\n",
       "RushYds          0\n",
       "RushTD           0\n",
       "Plays            0\n",
       "TotalYds         0\n",
       "YardsPerPlay     0\n",
       "TotalTDs         0\n",
       "YPG              0\n",
       "Conf             0\n",
       "response         0\n",
       "dtype: int64"
      ]
     },
     "execution_count": 4,
     "metadata": {},
     "output_type": "execute_result"
    }
   ],
   "source": [
    "df = df[(df['response'].notna()) & (df['RecYds'].notna())]\n",
    "df.isna().sum()"
   ]
  },
  {
   "cell_type": "code",
   "execution_count": 5,
   "metadata": {},
   "outputs": [
    {
     "data": {
      "text/plain": [
       "(473, 24)"
      ]
     },
     "execution_count": 5,
     "metadata": {},
     "output_type": "execute_result"
    }
   ],
   "source": [
    "df.shape"
   ]
  },
  {
   "cell_type": "code",
   "execution_count": 6,
   "metadata": {},
   "outputs": [
    {
     "data": {
      "text/plain": [
       "(436, 24)"
      ]
     },
     "execution_count": 6,
     "metadata": {},
     "output_type": "execute_result"
    }
   ],
   "source": [
    "# removing outliers\n",
    "df = df[(np.abs(stats.zscore(df['Rec'])) < 3)]\n",
    "df = df[(np.abs(stats.zscore(df['RushYds'])) < 3)]\n",
    "df = df[(np.abs(stats.zscore(df['RecYds'])) < 3)]\n",
    "df = df[(np.abs(stats.zscore(df['RecTD'])) < 3)]\n",
    "df = df[(np.abs(stats.zscore(df['TotalYds'])) < 3)]\n",
    "df = df[(np.abs(stats.zscore(df['RushAtt'])) < 3)]\n",
    "df = df[(np.abs(stats.zscore(df['RushTD'])) < 3)]\n",
    "df.shape"
   ]
  },
  {
   "cell_type": "code",
   "execution_count": 7,
   "metadata": {},
   "outputs": [],
   "source": [
    "# setting missing values\n",
    "df = df.copy()\n",
    "# df.loc[df['RushAvg'].isna(), 'RushAvg'] = 0\n",
    "df.loc[df['Weight'].isna(), 'Weight'] = df['Weight'].median()\n",
    "df.loc[df['40 Time'].isna(), '40 Time'] = df['40 Time'].median()\n",
    "df.loc[df['Height (in)'].isna(), 'Height (in)'] = df['Height (in)'].median()"
   ]
  },
  {
   "cell_type": "code",
   "execution_count": 8,
   "metadata": {},
   "outputs": [],
   "source": [
    "response = df['response']\n",
    "df = df.drop(columns = ['Player'])"
   ]
  },
  {
   "cell_type": "code",
   "execution_count": 9,
   "metadata": {},
   "outputs": [
    {
     "name": "stdout",
     "output_type": "stream",
     "text": [
      "Round Correlation:  0.5529172020571946\n"
     ]
    },
    {
     "data": {
      "text/plain": [
       "None"
      ]
     },
     "metadata": {},
     "output_type": "display_data"
    },
    {
     "name": "stdout",
     "output_type": "stream",
     "text": [
      "Pick Correlation:  0.5529314351799848\n"
     ]
    },
    {
     "data": {
      "text/plain": [
       "None"
      ]
     },
     "metadata": {},
     "output_type": "display_data"
    },
    {
     "name": "stdout",
     "output_type": "stream",
     "text": [
      "Weight Correlation:  -0.16839907038102403\n"
     ]
    },
    {
     "data": {
      "text/plain": [
       "None"
      ]
     },
     "metadata": {},
     "output_type": "display_data"
    },
    {
     "name": "stdout",
     "output_type": "stream",
     "text": [
      "Height Correlation:  -0.16441395117076063\n"
     ]
    },
    {
     "data": {
      "text/plain": [
       "None"
      ]
     },
     "metadata": {},
     "output_type": "display_data"
    },
    {
     "name": "stdout",
     "output_type": "stream",
     "text": [
      "40 Time Correlation:  0.16842757802888486\n"
     ]
    },
    {
     "data": {
      "text/plain": [
       "None"
      ]
     },
     "metadata": {},
     "output_type": "display_data"
    },
    {
     "name": "stdout",
     "output_type": "stream",
     "text": [
      "RecYds Correlation:  -0.10741603525256362\n"
     ]
    },
    {
     "data": {
      "text/plain": [
       "None"
      ]
     },
     "metadata": {},
     "output_type": "display_data"
    },
    {
     "name": "stdout",
     "output_type": "stream",
     "text": [
      "RecAvg Correlation:  -0.13587852312060278\n"
     ]
    },
    {
     "data": {
      "text/plain": [
       "None"
      ]
     },
     "metadata": {},
     "output_type": "display_data"
    }
   ],
   "source": [
    "# sns.set_theme()\n",
    "display(print(\"Round Correlation: \", df['response'].corr(df['Round'])))\n",
    "display(print(\"Pick Correlation: \", df['response'].corr(df['Pick'])))\n",
    "display(print(\"Weight Correlation: \", df['response'].corr(df['Weight'])))\n",
    "display(print(\"Height Correlation: \", df['response'].corr(df['Height (in)'])))\n",
    "display(print(\"40 Time Correlation: \", df['response'].corr(df['40 Time'])))\n",
    "display(print(\"RecYds Correlation: \", df['response'].corr(df['RecYds'])))\n",
    "display(print(\"RecAvg Correlation: \", df['response'].corr(df['RecAvg'])))"
   ]
  },
  {
   "cell_type": "code",
   "execution_count": 10,
   "metadata": {},
   "outputs": [],
   "source": [
    "# seperating data into numeric and categorical columns\n",
    "df_cat = df[['Team', 'School', 'Conf']].copy()\n",
    "df_num = df.drop(columns = ['Team', 'School', 'Conf']).copy()\n",
    "response = df['response']"
   ]
  },
  {
   "cell_type": "code",
   "execution_count": 11,
   "metadata": {},
   "outputs": [
    {
     "name": "stdout",
     "output_type": "stream",
     "text": [
      "                 Round      Pick       Age    Weight   40 Time  Height (in)  \\\n",
      "Round         1.000000  0.984893  0.205570 -0.106944  0.276387    -0.053393   \n",
      "Pick          0.984893  1.000000  0.187624 -0.088029  0.269241    -0.032547   \n",
      "Age           0.205570  0.187624  1.000000 -0.206989  0.021661    -0.142701   \n",
      "Weight       -0.106944 -0.088029 -0.206989  1.000000  0.135084     0.727847   \n",
      "40 Time       0.276387  0.269241  0.021661  0.135084  1.000000     0.127806   \n",
      "Height (in)  -0.053393 -0.032547 -0.142701  0.727847  0.127806     1.000000   \n",
      "G            -0.062971 -0.083555  0.023328 -0.104921  0.036952    -0.178626   \n",
      "Rec          -0.111333 -0.138469  0.011413 -0.090673  0.130989    -0.173102   \n",
      "RecYds       -0.204455 -0.223944  0.031001 -0.088373  0.091784    -0.136236   \n",
      "RecAvg       -0.231506 -0.208475  0.069239 -0.001772 -0.126302     0.103969   \n",
      "RecTD        -0.311311 -0.321779 -0.024976 -0.056497  0.030592    -0.101081   \n",
      "RushAtt      -0.071107 -0.087220  0.020821 -0.166353 -0.181817    -0.289709   \n",
      "RushYds      -0.140497 -0.143129 -0.000087 -0.218611 -0.255146    -0.252903   \n",
      "RushTD       -0.135275 -0.131906  0.069426 -0.093109 -0.158237    -0.189059   \n",
      "Plays        -0.115599 -0.143597  0.013831 -0.110017  0.097158    -0.205953   \n",
      "TotalYds     -0.213071 -0.232428  0.030411 -0.106097  0.067437    -0.156101   \n",
      "YardsPerPlay -0.221365 -0.195940  0.056074  0.008758 -0.094917     0.143873   \n",
      "TotalTDs     -0.324034 -0.334155 -0.018148 -0.065509  0.015072    -0.119402   \n",
      "YPG          -0.238698 -0.238279  0.034816 -0.027260  0.095341    -0.002369   \n",
      "response      0.552917  0.552931  0.194188 -0.168399  0.168428    -0.164414   \n",
      "\n",
      "                     G       Rec    RecYds    RecAvg     RecTD   RushAtt  \\\n",
      "Round        -0.062971 -0.111333 -0.204455 -0.231506 -0.311311 -0.071107   \n",
      "Pick         -0.083555 -0.138469 -0.223944 -0.208475 -0.321779 -0.087220   \n",
      "Age           0.023328  0.011413  0.031001  0.069239 -0.024976  0.020821   \n",
      "Weight       -0.104921 -0.090673 -0.088373 -0.001772 -0.056497 -0.166353   \n",
      "40 Time       0.036952  0.130989  0.091784 -0.126302  0.030592 -0.181817   \n",
      "Height (in)  -0.178626 -0.173102 -0.136236  0.103969 -0.101081 -0.289709   \n",
      "G             1.000000  0.810404  0.783866 -0.209204  0.636883  0.356131   \n",
      "Rec           0.810404  1.000000  0.946573 -0.307918  0.785402  0.310385   \n",
      "RecYds        0.783866  0.946573  1.000000 -0.026098  0.864991  0.251770   \n",
      "RecAvg       -0.209204 -0.307918 -0.026098  1.000000  0.060950 -0.255042   \n",
      "RecTD         0.636883  0.785402  0.864991  0.060950  1.000000  0.139387   \n",
      "RushAtt       0.356131  0.310385  0.251770 -0.255042  0.139387  1.000000   \n",
      "RushYds       0.285993  0.206559  0.168707 -0.174040  0.099357  0.869059   \n",
      "RushTD        0.073785  0.059196  0.017480 -0.139431 -0.032426  0.514283   \n",
      "Plays         0.817830  0.990276  0.931218 -0.328261  0.762488  0.439610   \n",
      "TotalYds      0.794499  0.947107  0.996173 -0.041040  0.857552  0.324099   \n",
      "YardsPerPlay -0.206344 -0.288061 -0.013259  0.972663  0.084530 -0.401673   \n",
      "TotalTDs      0.643068  0.789921  0.865303  0.047220  0.995214  0.189442   \n",
      "YPG          -0.255943  0.238511  0.346663  0.274968  0.347641 -0.156744   \n",
      "response      0.018247 -0.047376 -0.107416 -0.135879 -0.224114 -0.043654   \n",
      "\n",
      "               RushYds    RushTD     Plays  TotalYds  YardsPerPlay  TotalTDs  \\\n",
      "Round        -0.140497 -0.135275 -0.115599 -0.213071     -0.221365 -0.324034   \n",
      "Pick         -0.143129 -0.131906 -0.143597 -0.232428     -0.195940 -0.334155   \n",
      "Age          -0.000087  0.069426  0.013831  0.030411      0.056074 -0.018148   \n",
      "Weight       -0.218611 -0.093109 -0.110017 -0.106097      0.008758 -0.065509   \n",
      "40 Time      -0.255146 -0.158237  0.097158  0.067437     -0.094917  0.015072   \n",
      "Height (in)  -0.252903 -0.189059 -0.205953 -0.156101      0.143873 -0.119402   \n",
      "G             0.285993  0.073785  0.817830  0.794499     -0.206344  0.643068   \n",
      "Rec           0.206559  0.059196  0.990276  0.947107     -0.288061  0.789921   \n",
      "RecYds        0.168707  0.017480  0.931218  0.996173     -0.013259  0.865303   \n",
      "RecAvg       -0.174040 -0.139431 -0.328261 -0.041040      0.972663  0.047220   \n",
      "RecTD         0.099357 -0.032426  0.762488  0.857552      0.084530  0.995214   \n",
      "RushAtt       0.869059  0.514283  0.439610  0.324099     -0.401673  0.189442   \n",
      "RushYds       1.000000  0.632776  0.322348  0.254207     -0.254934  0.161061   \n",
      "RushTD        0.632776  1.000000  0.131193  0.073259     -0.170703  0.065393   \n",
      "Plays         0.322348  0.131193  1.000000  0.942307     -0.330957  0.774083   \n",
      "TotalYds      0.254207  0.073259  0.942307  1.000000     -0.035615  0.863329   \n",
      "YardsPerPlay -0.254934 -0.170703 -0.330957 -0.035615      1.000000  0.067704   \n",
      "TotalTDs      0.161061  0.065393  0.774083  0.863329      0.067704  1.000000   \n",
      "YPG          -0.172465 -0.066392  0.202419  0.324858      0.301370  0.340588   \n",
      "response     -0.098046 -0.033524 -0.051152 -0.114092     -0.144644 -0.227029   \n",
      "\n",
      "                   YPG  response  \n",
      "Round        -0.238698  0.552917  \n",
      "Pick         -0.238279  0.552931  \n",
      "Age           0.034816  0.194188  \n",
      "Weight       -0.027260 -0.168399  \n",
      "40 Time       0.095341  0.168428  \n",
      "Height (in)  -0.002369 -0.164414  \n",
      "G            -0.255943  0.018247  \n",
      "Rec           0.238511 -0.047376  \n",
      "RecYds        0.346663 -0.107416  \n",
      "RecAvg        0.274968 -0.135879  \n",
      "RecTD         0.347641 -0.224114  \n",
      "RushAtt      -0.156744 -0.043654  \n",
      "RushYds      -0.172465 -0.098046  \n",
      "RushTD       -0.066392 -0.033524  \n",
      "Plays         0.202419 -0.051152  \n",
      "TotalYds      0.324858 -0.114092  \n",
      "YardsPerPlay  0.301370 -0.144644  \n",
      "TotalTDs      0.340588 -0.227029  \n",
      "YPG           1.000000 -0.173254  \n",
      "response     -0.173254  1.000000  \n"
     ]
    }
   ],
   "source": [
    "with pd.option_context('display.max_rows', None, 'display.max_columns', None):  # more options can be specified also\n",
    "    print(df_num.corr())\n",
    "# df_num.corr()"
   ]
  },
  {
   "cell_type": "code",
   "execution_count": 12,
   "metadata": {},
   "outputs": [
    {
     "data": {
      "text/plain": [
       "(array([ 78.,   0.,   0.,  79.,   0.,   0., 215.,   0.,   0.,  64.]),\n",
       " array([1. , 1.3, 1.6, 1.9, 2.2, 2.5, 2.8, 3.1, 3.4, 3.7, 4. ]),\n",
       " <BarContainer object of 10 artists>)"
      ]
     },
     "execution_count": 12,
     "metadata": {},
     "output_type": "execute_result"
    },
    {
     "data": {
      "image/png": "[encoded data removed]",
      "text/plain": [
       "<Figure size 432x288 with 1 Axes>"
      ]
     },
     "metadata": {
      "needs_background": "light"
     },
     "output_type": "display_data"
    }
   ],
   "source": [
    "plt.hist(df['response'], bins=10)"
   ]
  },
  {
   "cell_type": "code",
   "execution_count": 13,
   "metadata": {},
   "outputs": [
    {
     "data": {
      "text/plain": [
       "(array([72., 78., 83., 82., 51., 38., 32.]),\n",
       " array([1.        , 1.85714286, 2.71428571, 3.57142857, 4.42857143,\n",
       "        5.28571429, 6.14285714, 7.        ]),\n",
       " <BarContainer object of 7 artists>)"
      ]
     },
     "execution_count": 13,
     "metadata": {},
     "output_type": "execute_result"
    },
    {
     "data": {
      "image/png": "[encoded data removed]",
      "text/plain": [
       "<Figure size 432x288 with 1 Axes>"
      ]
     },
     "metadata": {
      "needs_background": "light"
     },
     "output_type": "display_data"
    }
   ],
   "source": [
    "plt.hist(df['Round'], bins=7)"
   ]
  },
  {
   "cell_type": "code",
   "execution_count": 14,
   "metadata": {},
   "outputs": [
    {
     "data": {
      "text/plain": [
       "(array([62., 64., 61., 71., 43., 37., 33., 26., 21., 18.]),\n",
       " array([  2. ,  27.6,  53.2,  78.8, 104.4, 130. , 155.6, 181.2, 206.8,\n",
       "        232.4, 258. ]),\n",
       " <BarContainer object of 10 artists>)"
      ]
     },
     "execution_count": 14,
     "metadata": {},
     "output_type": "execute_result"
    },
    {
     "data": {
      "image/png": "[encoded data removed]",
      "text/plain": [
       "<Figure size 432x288 with 1 Axes>"
      ]
     },
     "metadata": {
      "needs_background": "light"
     },
     "output_type": "display_data"
    }
   ],
   "source": [
    "plt.hist(df['Pick'], bins=10)"
   ]
  },
  {
   "cell_type": "code",
   "execution_count": 15,
   "metadata": {},
   "outputs": [
    {
     "data": {
      "text/plain": [
       "(array([20., 16., 52., 75., 94., 57., 77., 31., 12.,  2.]),\n",
       " array([164. , 171.6, 179.2, 186.8, 194.4, 202. , 209.6, 217.2, 224.8,\n",
       "        232.4, 240. ]),\n",
       " <BarContainer object of 10 artists>)"
      ]
     },
     "execution_count": 15,
     "metadata": {},
     "output_type": "execute_result"
    },
    {
     "data": {
      "image/png": "[encoded data removed]",
      "text/plain": [
       "<Figure size 432x288 with 1 Axes>"
      ]
     },
     "metadata": {
      "needs_background": "light"
     },
     "output_type": "display_data"
    }
   ],
   "source": [
    "plt.hist(df.Weight)"
   ]
  },
  {
   "cell_type": "code",
   "execution_count": 16,
   "metadata": {},
   "outputs": [
    {
     "data": {
      "text/plain": [
       "(array([  5.,  22.,  17.,  33.,  59., 183.,  58.,  30.,  24.,   5.]),\n",
       " array([66. , 67.2, 68.4, 69.6, 70.8, 72. , 73.2, 74.4, 75.6, 76.8, 78. ]),\n",
       " <BarContainer object of 10 artists>)"
      ]
     },
     "execution_count": 16,
     "metadata": {},
     "output_type": "execute_result"
    },
    {
     "data": {
      "image/png": "[encoded data removed]",
      "text/plain": [
       "<Figure size 432x288 with 1 Axes>"
      ]
     },
     "metadata": {
      "needs_background": "light"
     },
     "output_type": "display_data"
    }
   ],
   "source": [
    "plt.hist(df['Height (in)'])"
   ]
  },
  {
   "cell_type": "code",
   "execution_count": 17,
   "metadata": {},
   "outputs": [
    {
     "data": {
      "text/plain": [
       "(array([  4.,  20.,  24.,  76., 124.,  94.,  59.,  21.,  12.,   2.]),\n",
       " array([4.22 , 4.276, 4.332, 4.388, 4.444, 4.5  , 4.556, 4.612, 4.668,\n",
       "        4.724, 4.78 ]),\n",
       " <BarContainer object of 10 artists>)"
      ]
     },
     "execution_count": 17,
     "metadata": {},
     "output_type": "execute_result"
    },
    {
     "data": {
      "image/png": "[encoded data removed]",
      "text/plain": [
       "<Figure size 432x288 with 1 Axes>"
      ]
     },
     "metadata": {
      "needs_background": "light"
     },
     "output_type": "display_data"
    }
   ],
   "source": [
    "plt.hist(df['40 Time'])"
   ]
  },
  {
   "cell_type": "code",
   "execution_count": 18,
   "metadata": {},
   "outputs": [
    {
     "data": {
      "text/plain": [
       "(array([34., 59., 69., 63., 87., 48., 42., 24.,  7.,  3.]),\n",
       " array([ 340. ,  753.2, 1166.4, 1579.6, 1992.8, 2406. , 2819.2, 3232.4,\n",
       "        3645.6, 4058.8, 4472. ]),\n",
       " <BarContainer object of 10 artists>)"
      ]
     },
     "execution_count": 18,
     "metadata": {},
     "output_type": "execute_result"
    },
    {
     "data": {
      "image/png": "[encoded data removed]",
      "text/plain": [
       "<Figure size 432x288 with 1 Axes>"
      ]
     },
     "metadata": {
      "needs_background": "light"
     },
     "output_type": "display_data"
    }
   ],
   "source": [
    "plt.hist(df.RecYds)"
   ]
  },
  {
   "cell_type": "code",
   "execution_count": 19,
   "metadata": {},
   "outputs": [
    {
     "data": {
      "text/plain": [
       "(array([ 14.,  85., 139., 132.,  45.,  16.,   4.,   0.,   0.,   1.]),\n",
       " array([ 9.65354331, 11.6167604 , 13.5799775 , 15.5431946 , 17.5064117 ,\n",
       "        19.4696288 , 21.43284589, 23.39606299, 25.35928009, 27.32249719,\n",
       "        29.28571429]),\n",
       " <BarContainer object of 10 artists>)"
      ]
     },
     "execution_count": 19,
     "metadata": {},
     "output_type": "execute_result"
    },
    {
     "data": {
      "image/png": "[encoded data removed]",
      "text/plain": [
       "<Figure size 432x288 with 1 Axes>"
      ]
     },
     "metadata": {
      "needs_background": "light"
     },
     "output_type": "display_data"
    }
   ],
   "source": [
    "plt.hist(df.RecAvg)"
   ]
  },
  {
   "cell_type": "code",
   "execution_count": 20,
   "metadata": {},
   "outputs": [
    {
     "data": {
      "text/plain": [
       "(array([188., 103.,  52.,  50.,   9.,  14.,   9.,   4.,   4.,   3.]),\n",
       " array([-20. ,  22.1,  64.2, 106.3, 148.4, 190.5, 232.6, 274.7, 316.8,\n",
       "        358.9, 401. ]),\n",
       " <BarContainer object of 10 artists>)"
      ]
     },
     "execution_count": 20,
     "metadata": {},
     "output_type": "execute_result"
    },
    {
     "data": {
      "image/png": "[encoded data removed]",
      "text/plain": [
       "<Figure size 432x288 with 1 Axes>"
      ]
     },
     "metadata": {
      "needs_background": "light"
     },
     "output_type": "display_data"
    }
   ],
   "source": [
    "plt.hist(df.RushYds)"
   ]
  },
  {
   "cell_type": "code",
   "execution_count": 21,
   "metadata": {},
   "outputs": [
    {
     "data": {
      "text/plain": [
       "(array([ 14.,  85., 139., 132.,  45.,  16.,   4.,   0.,   0.,   1.]),\n",
       " array([ 9.65354331, 11.6167604 , 13.5799775 , 15.5431946 , 17.5064117 ,\n",
       "        19.4696288 , 21.43284589, 23.39606299, 25.35928009, 27.32249719,\n",
       "        29.28571429]),\n",
       " <BarContainer object of 10 artists>)"
      ]
     },
     "execution_count": 21,
     "metadata": {},
     "output_type": "execute_result"
    },
    {
     "data": {
      "image/png": "[encoded data removed]",
      "text/plain": [
       "<Figure size 432x288 with 1 Axes>"
      ]
     },
     "metadata": {
      "needs_background": "light"
     },
     "output_type": "display_data"
    }
   ],
   "source": [
    "plt.hist(df_num.RecAvg)"
   ]
  },
  {
   "cell_type": "code",
   "execution_count": 22,
   "metadata": {},
   "outputs": [
    {
     "data": {
      "text/plain": [
       "(array([  6.,  38.,  93., 156.,  84.,  40.,  15.,   2.,   1.,   1.]),\n",
       " array([ 8.24719101, 10.07559691, 11.90400281, 13.73240871, 15.56081461,\n",
       "        17.38922051, 19.2176264 , 21.0460323 , 22.8744382 , 24.7028441 ,\n",
       "        26.53125   ]),\n",
       " <BarContainer object of 10 artists>)"
      ]
     },
     "execution_count": 22,
     "metadata": {},
     "output_type": "execute_result"
    },
    {
     "data": {
      "image/png": "[encoded data removed]",
      "text/plain": [
       "<Figure size 432x288 with 1 Axes>"
      ]
     },
     "metadata": {
      "needs_background": "light"
     },
     "output_type": "display_data"
    }
   ],
   "source": [
    "plt.hist(df_num.YardsPerPlay)"
   ]
  },
  {
   "cell_type": "code",
   "execution_count": 23,
   "metadata": {},
   "outputs": [
    {
     "data": {
      "text/plain": [
       "(array([284.,   0.,   0., 105.,   0.,   0.,  27.,   0.,   0.,  20.]),\n",
       " array([0. , 0.3, 0.6, 0.9, 1.2, 1.5, 1.8, 2.1, 2.4, 2.7, 3. ]),\n",
       " <BarContainer object of 10 artists>)"
      ]
     },
     "execution_count": 23,
     "metadata": {},
     "output_type": "execute_result"
    },
    {
     "data": {
      "image/png": "[encoded data removed]",
      "text/plain": [
       "<Figure size 432x288 with 1 Axes>"
      ]
     },
     "metadata": {
      "needs_background": "light"
     },
     "output_type": "display_data"
    }
   ],
   "source": [
    "plt.hist(df_num.RushTD)"
   ]
  },
  {
   "cell_type": "code",
   "execution_count": 24,
   "metadata": {},
   "outputs": [
    {
     "data": {
      "text/plain": [
       "(array([49., 74., 71., 66., 76., 41., 41., 13.,  3.,  2.]),\n",
       " array([ 25. ,  55.2,  85.4, 115.6, 145.8, 176. , 206.2, 236.4, 266.6,\n",
       "        296.8, 327. ]),\n",
       " <BarContainer object of 10 artists>)"
      ]
     },
     "execution_count": 24,
     "metadata": {},
     "output_type": "execute_result"
    },
    {
     "data": {
      "image/png": "[encoded data removed]",
      "text/plain": [
       "<Figure size 432x288 with 1 Axes>"
      ]
     },
     "metadata": {
      "needs_background": "light"
     },
     "output_type": "display_data"
    }
   ],
   "source": [
    "plt.hist(df_num.Rec)"
   ]
  },
  {
   "cell_type": "code",
   "execution_count": 42,
   "metadata": {},
   "outputs": [],
   "source": [
    "# creating training and testing data for catboost model\n",
    "X_train_cb, X_test_cb, y_train_cb, y_test_cb = train_test_split(df.drop(columns='response'), response, test_size=.2)"
   ]
  },
  {
   "cell_type": "code",
   "execution_count": 44,
   "metadata": {},
   "outputs": [
    {
     "data": {
      "text/plain": [
       "Round             int64\n",
       "Pick              int64\n",
       "Team             object\n",
       "Age             float64\n",
       "School           object\n",
       "Weight          float64\n",
       "40 Time         float64\n",
       "Height (in)     float64\n",
       "G               float64\n",
       "Rec             float64\n",
       "RecYds          float64\n",
       "RecAvg          float64\n",
       "RecTD           float64\n",
       "RushAtt         float64\n",
       "RushYds         float64\n",
       "RushTD          float64\n",
       "Plays           float64\n",
       "TotalYds        float64\n",
       "YardsPerPlay    float64\n",
       "TotalTDs        float64\n",
       "YPG             float64\n",
       "Conf             object\n",
       "dtype: object"
      ]
     },
     "execution_count": 44,
     "metadata": {},
     "output_type": "execute_result"
    }
   ],
   "source": [
    "X_train_cb.dtypes"
   ]
  },
  {
   "cell_type": "code",
   "execution_count": 52,
   "metadata": {},
   "outputs": [
    {
     "name": "stdout",
     "output_type": "stream",
     "text": [
      "0:\tlearn: 1.1524451\ttotal: 167ms\tremaining: 167ms\n",
      "1:\tlearn: 1.0217857\ttotal: 173ms\tremaining: 0us\n"
     ]
    },
    {
     "data": {
      "text/plain": [
       "<catboost.core.CatBoostClassifier at 0x1a3fac44190>"
      ]
     },
     "execution_count": 52,
     "metadata": {},
     "output_type": "execute_result"
    }
   ],
   "source": [
    "# initiating model\n",
    "cat_model = CatBoostClassifier(iterations=2,\n",
    "                          depth=2,\n",
    "                          learning_rate=1,\n",
    "                          loss_function='MultiClass',\n",
    "                          verbose=True)\n",
    "\n",
    "# using grid search to determine best parameters\n",
    "# grid = {'iterations': [0.03, 0.1],\n",
    "#         'depth': [4, 6, 10],\n",
    "#         'learning_rate': [1, 3, 5, 7, 9]}\n",
    "\n",
    "# Pooling data before fitting\n",
    "pool_train = Pool(X_train_cb, y_train_cb, cat_features=['Team', 'School', 'Conf'])\n",
    "\n",
    "# fitting model\n",
    "cat_model.fit(pool_train)"
   ]
  },
  {
   "cell_type": "code",
   "execution_count": 54,
   "metadata": {},
   "outputs": [],
   "source": [
    "# pooling test data\n",
    "pool_test = Pool(X_test_cb, y_test_cb, cat_features=['Team', 'School', 'Conf'])\n",
    "\n",
    "# making predictions\n",
    "cat_preds = cat_model.predict(pool_test)\n",
    "cat_proba = cat_model.predict_proba(pool_test)"
   ]
  },
  {
   "cell_type": "code",
   "execution_count": 60,
   "metadata": {},
   "outputs": [
    {
     "data": {
      "text/plain": [
       "0.45454545454545453"
      ]
     },
     "execution_count": 60,
     "metadata": {},
     "output_type": "execute_result"
    }
   ],
   "source": [
    "f1_score(y_test_cb, cat_preds, average='micro')"
   ]
  },
  {
   "cell_type": "code",
   "execution_count": 62,
   "metadata": {},
   "outputs": [],
   "source": [
    "# saving the initial model to a pkl file\n",
    "wr_pickled_initial = pickle.dump(cat_model, open('wr_pickled_initial.pkl', 'wb'))"
   ]
  },
  {
   "cell_type": "code",
   "execution_count": null,
   "metadata": {},
   "outputs": [],
   "source": []
  }
 ],
 "metadata": {
  "kernelspec": {
   "display_name": "Python 3",
   "language": "python",
   "name": "python3"
  },
  "language_info": {
   "codemirror_mode": {
    "name": "ipython",
    "version": 3
   },
   "file_extension": ".py",
   "mimetype": "text/x-python",
   "name": "python",
   "nbconvert_exporter": "python",
   "pygments_lexer": "ipython3",
   "version": "3.8.3"
  }
 },
 "nbformat": 4,
 "nbformat_minor": 4
}
