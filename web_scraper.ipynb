{
 "cells": [
  {
   "cell_type": "code",
   "execution_count": 1,
   "metadata": {},
   "outputs": [],
   "source": [
    "import requests\n",
    "from bs4 import BeautifulSoup as BS\n",
    "import pandas as pd"
   ]
  },
  {
   "cell_type": "code",
   "execution_count": 14,
   "metadata": {},
   "outputs": [],
   "source": [
    "def get_rec_data(year):\n",
    "    \"\"\"Creating a function to scrape receiving data\"\"\"\n",
    "    pd.set_option('display.max_columns', None)\n",
    "    # setting the url\n",
    "    URL = f'https://www.sports-reference.com/cfb/years/{year}-receiving.html'\n",
    "    # saving the url as a variable\n",
    "    res = requests.get(URL)\n",
    "    # creating a beautifulSoup object\n",
    "    soup = BS(res.content, 'html.parser')\n",
    "    # locate table of interest\n",
    "    table = soup.find(class_=\"sortable stats_table\", id='receiving')\n",
    "    # read data into a datafrae\n",
    "    df = pd.read_html(str(table))[0]\n",
    "    # rename columns\n",
    "    df.columns = ['Rk', 'Player', 'School', 'Conf', 'G', 'Rec', 'RecYds', 'RecAvg', 'RecTD', 'RushAtt', 'RushYds', 'RushAvg', 'RushTD', 'Plays', 'TotalYds', 'YardsPerPlay', 'TotalTDs']\n",
    "    # remove blank rows\n",
    "    df = df.loc[df['Conf']!='Conf']\n",
    "    # remove the * that's next to several player names\n",
    "    df['Player'] = df['Player'].apply(lambda x: x.split('*')[0].strip())\n",
    "    # save data to csv\n",
    "    df.to_csv(f'receiving/{year}.csv', index=False)\n",
    "    return \"Data successfully saved\""
   ]
  },
  {
   "cell_type": "code",
   "execution_count": 15,
   "metadata": {},
   "outputs": [
    {
     "data": {
      "text/plain": [
       "'Data successfully saved'"
      ]
     },
     "execution_count": 15,
     "metadata": {},
     "output_type": "execute_result"
    }
   ],
   "source": [
    "# getting data\n",
    "get_rec_data(2022)"
   ]
  },
  {
   "cell_type": "code",
   "execution_count": 38,
   "metadata": {},
   "outputs": [],
   "source": [
    "# getting data\n",
    "for x in range(1993,2022):\n",
    "    get_rec_data(x)"
   ]
  },
  {
   "cell_type": "code",
   "execution_count": 12,
   "metadata": {},
   "outputs": [],
   "source": [
    "def get_rush_data(year):\n",
    "    \"\"\"Creating a function to scrape receiving data\"\"\"\n",
    "    pd.set_option('display.max_columns', None)\n",
    "    # setting the url\n",
    "    URL = f'https://www.sports-reference.com/cfb/years/{year}-rushing.html'\n",
    "    # saving the url as a variable\n",
    "    res = requests.get(URL)\n",
    "    # creating a beautifulSoup object\n",
    "    soup = BS(res.content, 'html.parser')\n",
    "    # locate table of interest\n",
    "    table = soup.find(class_=\"sortable stats_table\", id='rushing')\n",
    "    # read data into a datafrae\n",
    "    df = pd.read_html(str(table))[0]\n",
    "    # rename columns\n",
    "    df.columns = ['Rk', 'Player', 'School', 'Conf', 'G', 'RushAtt', 'RushYds', 'RushAvg', 'RushTD', 'Rec', 'RecYds', 'RecAvg', 'RecTD', 'Plays', 'TotalYds', 'YardsPerPlay', 'TotalTDs']\n",
    "    # remove blank rows\n",
    "    df = df.loc[df['Conf']!='Conf']\n",
    "    # remove the * that's next to several player names\n",
    "    df['Player'] = df['Player'].apply(lambda x: x.split('*')[0].strip())\n",
    "    # save data to csv\n",
    "    df.to_csv(f'rushing/{year}.csv', index=False)\n",
    "    return \"Data successfully saved\""
   ]
  },
  {
   "cell_type": "code",
   "execution_count": 13,
   "metadata": {},
   "outputs": [
    {
     "data": {
      "text/plain": [
       "'Data successfully saved'"
      ]
     },
     "execution_count": 13,
     "metadata": {},
     "output_type": "execute_result"
    }
   ],
   "source": [
    "# getting data\n",
    "get_rush_data(2022)"
   ]
  },
  {
   "cell_type": "code",
   "execution_count": 13,
   "metadata": {},
   "outputs": [],
   "source": [
    "# getting data\n",
    "for x in range(1993,2022):\n",
    "    get_rush_data(x)"
   ]
  },
  {
   "cell_type": "code",
   "execution_count": 10,
   "metadata": {},
   "outputs": [],
   "source": [
    "def get_passing_data(year):\n",
    "    \"\"\"Creating a function to scrape passing data\"\"\"\n",
    "    pd.set_option('display.max_columns', None)\n",
    "    # setting the url\n",
    "    URL = f'https://www.sports-reference.com/cfb/years/{year}-passing.html'\n",
    "    # saving the url as a variable\n",
    "    res = requests.get(URL)\n",
    "    # creating a beautifulSoup object\n",
    "    soup = BS(res.content, 'html.parser')\n",
    "    # locate table of interest\n",
    "    table = soup.find(class_=\"sortable stats_table\", id='passing')\n",
    "    # read data into a datafrae\n",
    "    df = pd.read_html(str(table))[0]\n",
    "    # rename columns\n",
    "    df.columns = ['Rk', 'Player', 'School', 'Conf', 'G', 'Completions', 'Attempts', 'CompletionPCT', 'PassYds', 'YardsPerAttempt',\n",
    "                  'AdjustedYardsPerAttempt', 'PassingTDs', 'Int', 'EfficiencyRtg', 'RushAtt', 'RushYds', 'RushAvg', 'RushTD']\n",
    "    # remove blank rows\n",
    "    df = df.loc[df['Conf']!='Conf']\n",
    "    # remove the * that's next to several player names\n",
    "    df['Player'] = df['Player'].apply(lambda x: x.split('*')[0].strip())\n",
    "    # save data to csv\n",
    "    df.to_csv(f'passing/{year}.csv', index=False)\n",
    "    return \"Data successfully saved\""
   ]
  },
  {
   "cell_type": "code",
   "execution_count": 11,
   "metadata": {},
   "outputs": [
    {
     "data": {
      "text/plain": [
       "'Data successfully saved'"
      ]
     },
     "execution_count": 11,
     "metadata": {},
     "output_type": "execute_result"
    }
   ],
   "source": [
    "# getting data\n",
    "get_passing_data(2022)"
   ]
  },
  {
   "cell_type": "code",
   "execution_count": 10,
   "metadata": {},
   "outputs": [],
   "source": [
    "# getting data\n",
    "for x in range(1993,2022):\n",
    "    get_passing_data(x)"
   ]
  },
  {
   "cell_type": "code",
   "execution_count": 31,
   "metadata": {},
   "outputs": [
    {
     "name": "stdout",
     "output_type": "stream",
     "text": [
      "1993\n"
     ]
    }
   ],
   "source": [
    "# getting data, scrolling error is why this cell is above the created function\n",
    "for x in range(1993,2022):\n",
    "    try:\n",
    "        get_draft_data(x)\n",
    "    except ValueError:\n",
    "        print(x)\n",
    "    except:\n",
    "        print(x, 'something else')"
   ]
  },
  {
   "cell_type": "code",
   "execution_count": 8,
   "metadata": {},
   "outputs": [],
   "source": [
    "def get_draft_data(year):\n",
    "    pd.set_option('display.max_columns', None)\n",
    "    # setting the url\n",
    "    URL = f'https://www.pro-football-reference.com/years/{year}/draft.htm'\n",
    "    # saving the url as a variable\n",
    "    res = requests.get(URL)\n",
    "    # creating a beautifulSoup object\n",
    "    soup = BS(res.content, 'html.parser')\n",
    "    # locate table of interest\n",
    "    table = soup.find(class_=\"sortable stats_table\", id='drafts')\n",
    "    # read data into a datafrae\n",
    "    df = pd.read_html(str(table))[0]\n",
    "    # rename columns\n",
    "    df.columns = ['Round', 'Pick', 'Team', 'Player', 'Position', 'Age', 'To', 'AP1', 'PB', 'St', 'wAV', 'DrAV','G', 'Cmp', 'PassAtt',\n",
    "                'PassYds', 'PassTD', 'Int', 'RushAtt', 'RushYds', 'RushTD', 'Rec', 'RecYds', 'RecTD', 'Solo', 'Int', 'Sk', 'School', 'Unnamed: 28_level_1']\n",
    "\n",
    "        # remove blank rows\n",
    "    df = df.loc[df['Player']!='Player']\n",
    "    # filtering to only positions of interest\n",
    "    # df1 = df1[(df1['Player']=='QB') or (df1['Player']=='WR') or (df1['Player']=='RB') or (df1['Player']=='TE')].copy() \n",
    "    # select only relevant columns\n",
    "    df1 = df[['Round', 'Pick', 'Team', 'Player', 'Position', 'Age', 'School']].copy()\n",
    "        # remove the * that's next to several player names\n",
    "    df1['Player'] = df1['Player'].apply(lambda x: x.split('*')[0].strip())\n",
    "        # save data to csv\n",
    "    df1.to_csv(f'draft_data/{year}.csv', index=False)\n",
    "    print('success')"
   ]
  },
  {
   "cell_type": "code",
   "execution_count": 9,
   "metadata": {},
   "outputs": [
    {
     "name": "stdout",
     "output_type": "stream",
     "text": [
      "success\n"
     ]
    }
   ],
   "source": [
    "get_draft_data(2022)"
   ]
  },
  {
   "cell_type": "code",
   "execution_count": 4,
   "metadata": {},
   "outputs": [],
   "source": [
    "def get_combine_data(year):\n",
    "    \"\"\"Function for getting combine data\"\"\"\n",
    "    pd.set_option('display.max_columns', None)\n",
    "        # setting the url\n",
    "    URL = f'https://nflcombineresults.com/nflcombinedata_expanded.php?year={year}&pos=&college='\n",
    "        # saving the url as a variable\n",
    "    res = requests.get(URL)\n",
    "        # creating a beautifulSoup object\n",
    "    soup = BS(res.content, 'html.parser')\n",
    "    # locate table of interest\n",
    "    table = soup.find(class_=\"sortable\")\n",
    "    # read data into a datafrae\n",
    "    df = pd.read_html(str(table))[0]\n",
    "    df.to_csv(f'combine_results/{year}.csv', index=False)\n",
    "    print('success')"
   ]
  },
  {
   "cell_type": "code",
   "execution_count": 5,
   "metadata": {},
   "outputs": [
    {
     "name": "stdout",
     "output_type": "stream",
     "text": [
      "success\n",
      "success\n",
      "success\n",
      "success\n",
      "success\n",
      "success\n",
      "success\n",
      "success\n",
      "success\n",
      "success\n",
      "success\n",
      "success\n",
      "success\n",
      "success\n",
      "success\n",
      "success\n",
      "success\n",
      "success\n",
      "success\n",
      "success\n",
      "success\n",
      "success\n",
      "success\n",
      "success\n",
      "success\n",
      "success\n",
      "success\n",
      "success\n",
      "success\n",
      "success\n"
     ]
    }
   ],
   "source": [
    "# saving data\n",
    "for x in range(1993,2023):\n",
    "    try:\n",
    "        get_combine_data(x)\n",
    "    except ValueError:\n",
    "        print(x)\n",
    "    except:\n",
    "        print(x, 'something else')"
   ]
  },
  {
   "cell_type": "code",
   "execution_count": 6,
   "metadata": {},
   "outputs": [],
   "source": [
    "def get_combine_data(year):\n",
    "    \"\"\"Function for getting combine data\"\"\"\n",
    "    pd.set_option('display.max_columns', None)\n",
    "    # setting the url\n",
    "    URL = f'https://www.pro-football-reference.com/draft/{year}-combine.htm'\n",
    "    # saving the url as a variable\n",
    "    res = requests.get(URL)\n",
    "    # creating a beautifulSoup object\n",
    "    soup = BS(res.content, 'html.parser')\n",
    "    # locate table of interest\n",
    "    table = soup.find(class_=\"sortable stats_table\", id='combine')\n",
    "    # read data into a datafrae\n",
    "    df = pd.read_html(str(table))[0]\n",
    "    # rename columns\n",
    "    df.columns = ['Player', 'Position', 'School', 'College', 'Height', 'Weight', '40 Time', 'Vertical Jump', 'Bench', 'Broad Jump', '3 Cone', 'Shuttle', 'Drafted']\n",
    "\n",
    "        # remove blank rows\n",
    "    df = df.loc[df['Player']!='Player']\n",
    "    # filtering to only positions of interest\n",
    "    # df1 = df1[(df1['Player']=='QB') or (df1['Player']=='WR') or (df1['Player']=='RB') or (df1['Player']=='TE')].copy() \n",
    "    # select only relevant columns\n",
    "    df1 = df[df['Drafted'].notnull()].copy()\n",
    "        # remove the * that's next to several player names\n",
    "    df1['Player'] = df1['Player'].apply(lambda x: x.split('*')[0].strip())\n",
    "        # save data to csv\n",
    "    df1.to_csv(f'combine_data/{year}.csv', index=False)\n",
    "    print('success')"
   ]
  },
  {
   "cell_type": "code",
   "execution_count": 7,
   "metadata": {},
   "outputs": [
    {
     "name": "stdout",
     "output_type": "stream",
     "text": [
      "success\n",
      "success\n",
      "success\n",
      "success\n",
      "success\n",
      "success\n",
      "success\n",
      "success\n",
      "success\n",
      "success\n",
      "success\n",
      "success\n",
      "success\n",
      "success\n",
      "success\n",
      "success\n",
      "success\n",
      "success\n",
      "success\n",
      "success\n",
      "success\n",
      "success\n",
      "success\n"
     ]
    }
   ],
   "source": [
    "# saving data\n",
    "for x in range(2000,2023):\n",
    "    get_combine_data(x)"
   ]
  },
  {
   "cell_type": "code",
   "execution_count": null,
   "metadata": {},
   "outputs": [],
   "source": []
  }
 ],
 "metadata": {
  "kernelspec": {
   "display_name": "Python 3",
   "language": "python",
   "name": "python3"
  },
  "language_info": {
   "codemirror_mode": {
    "name": "ipython",
    "version": 3
   },
   "file_extension": ".py",
   "mimetype": "text/x-python",
   "name": "python",
   "nbconvert_exporter": "python",
   "pygments_lexer": "ipython3",
   "version": "3.8.3"
  }
 },
 "nbformat": 4,
 "nbformat_minor": 4
}
